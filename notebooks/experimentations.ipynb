{
 "cells": [
  {
   "cell_type": "code",
   "execution_count": 2,
   "metadata": {},
   "outputs": [],
   "source": [
    "import spacy\n",
    "import pymongo\n",
    "from pymongo import MongoClient\n",
    "from transformers import pipeline"
   ]
  },
  {
   "cell_type": "code",
   "execution_count": 3,
   "metadata": {},
   "outputs": [],
   "source": [
    "client = MongoClient('mongodb://localhost:27017')\n",
    "db = client.movie_reviews\n",
    "collection = db.reviews_spoilers"
   ]
  },
  {
   "cell_type": "code",
   "execution_count": 11,
   "metadata": {},
   "outputs": [],
   "source": [
    "nlp = spacy.load('en_core_web_sm')"
   ]
  },
  {
   "cell_type": "code",
   "execution_count": 21,
   "metadata": {},
   "outputs": [],
   "source": [
    "pola_nlp = spacy.load('../models/ner_polarity/')"
   ]
  },
  {
   "cell_type": "code",
   "execution_count": 10,
   "metadata": {},
   "outputs": [
    {
     "name": "stderr",
     "output_type": "stream",
     "text": [
      "Model name '../models/qas_polarity_treebank/model_save' was not found in model name list (bert-base-uncased, bert-large-uncased, bert-base-cased, bert-large-cased, bert-base-multilingual-uncased, bert-base-multilingual-cased, bert-base-chinese, bert-base-german-cased, bert-large-uncased-whole-word-masking, bert-large-cased-whole-word-masking, bert-large-uncased-whole-word-masking-finetuned-squad, bert-large-cased-whole-word-masking-finetuned-squad, bert-base-cased-finetuned-mrpc, bert-base-german-dbmdz-cased, bert-base-german-dbmdz-uncased, bert-base-japanese, bert-base-japanese-whole-word-masking, bert-base-japanese-char, bert-base-japanese-char-whole-word-masking, bert-base-finnish-cased-v1, bert-base-finnish-uncased-v1, bert-base-dutch-cased, bart-large, bart-large-mnli, bart-large-cnn, bart-large-xsum, openai-gpt, transfo-xl-wt103, gpt2, gpt2-medium, gpt2-large, gpt2-xl, distilgpt2, ctrl, xlnet-base-cased, xlnet-large-cased, xlm-mlm-en-2048, xlm-mlm-ende-1024, xlm-mlm-enfr-1024, xlm-mlm-enro-1024, xlm-mlm-tlm-xnli15-1024, xlm-mlm-xnli15-1024, xlm-clm-enfr-1024, xlm-clm-ende-1024, xlm-mlm-17-1280, xlm-mlm-100-1280, roberta-base, roberta-large, roberta-large-mnli, distilroberta-base, roberta-base-openai-detector, roberta-large-openai-detector, distilbert-base-uncased, distilbert-base-uncased-distilled-squad, distilbert-base-cased, distilbert-base-cased-distilled-squad, distilbert-base-german-cased, distilbert-base-multilingual-cased, distilbert-base-uncased-finetuned-sst-2-english, albert-base-v1, albert-large-v1, albert-xlarge-v1, albert-xxlarge-v1, albert-base-v2, albert-large-v2, albert-xlarge-v2, albert-xxlarge-v2, camembert-base, umberto-commoncrawl-cased-v1, umberto-wikipedia-uncased-v1, t5-small, t5-base, t5-large, t5-3b, t5-11b, xlm-roberta-base, xlm-roberta-large, xlm-roberta-large-finetuned-conll02-dutch, xlm-roberta-large-finetuned-conll02-spanish, xlm-roberta-large-finetuned-conll03-english, xlm-roberta-large-finetuned-conll03-german, flaubert-small-cased, flaubert-base-uncased, flaubert-base-cased, flaubert-large-cased, google/electra-small-generator, google/electra-base-generator, google/electra-large-generator, google/electra-small-discriminator, google/electra-base-discriminator, google/electra-large-discriminator). We assumed '../models/qas_polarity_treebank/model_save/modelcard.json' was a path or url to a model card file named modelcard.json or a directory containing such a file but couldn't find any such file at this path or url.\n",
      "Creating an empty model card.\n"
     ]
    }
   ],
   "source": [
    "span_nlp = pipeline('question-answering',\n",
    "                   model = '../models/qas_polarity_treebank/model_save',\n",
    "                   tokenizer = '../models/qas_polarity_treebank/model_save')"
   ]
  },
  {
   "cell_type": "code",
   "execution_count": 41,
   "metadata": {},
   "outputs": [
    {
     "name": "stderr",
     "output_type": "stream",
     "text": [
      "Model name '../models/treebank_binary/model_save' was not found in model name list (bert-base-uncased, bert-large-uncased, bert-base-cased, bert-large-cased, bert-base-multilingual-uncased, bert-base-multilingual-cased, bert-base-chinese, bert-base-german-cased, bert-large-uncased-whole-word-masking, bert-large-cased-whole-word-masking, bert-large-uncased-whole-word-masking-finetuned-squad, bert-large-cased-whole-word-masking-finetuned-squad, bert-base-cased-finetuned-mrpc, bert-base-german-dbmdz-cased, bert-base-german-dbmdz-uncased, bert-base-japanese, bert-base-japanese-whole-word-masking, bert-base-japanese-char, bert-base-japanese-char-whole-word-masking, bert-base-finnish-cased-v1, bert-base-finnish-uncased-v1, bert-base-dutch-cased, bart-large, bart-large-mnli, bart-large-cnn, bart-large-xsum, openai-gpt, transfo-xl-wt103, gpt2, gpt2-medium, gpt2-large, gpt2-xl, distilgpt2, ctrl, xlnet-base-cased, xlnet-large-cased, xlm-mlm-en-2048, xlm-mlm-ende-1024, xlm-mlm-enfr-1024, xlm-mlm-enro-1024, xlm-mlm-tlm-xnli15-1024, xlm-mlm-xnli15-1024, xlm-clm-enfr-1024, xlm-clm-ende-1024, xlm-mlm-17-1280, xlm-mlm-100-1280, roberta-base, roberta-large, roberta-large-mnli, distilroberta-base, roberta-base-openai-detector, roberta-large-openai-detector, distilbert-base-uncased, distilbert-base-uncased-distilled-squad, distilbert-base-cased, distilbert-base-cased-distilled-squad, distilbert-base-german-cased, distilbert-base-multilingual-cased, distilbert-base-uncased-finetuned-sst-2-english, albert-base-v1, albert-large-v1, albert-xlarge-v1, albert-xxlarge-v1, albert-base-v2, albert-large-v2, albert-xlarge-v2, albert-xxlarge-v2, camembert-base, umberto-commoncrawl-cased-v1, umberto-wikipedia-uncased-v1, t5-small, t5-base, t5-large, t5-3b, t5-11b, xlm-roberta-base, xlm-roberta-large, xlm-roberta-large-finetuned-conll02-dutch, xlm-roberta-large-finetuned-conll02-spanish, xlm-roberta-large-finetuned-conll03-english, xlm-roberta-large-finetuned-conll03-german, flaubert-small-cased, flaubert-base-uncased, flaubert-base-cased, flaubert-large-cased, google/electra-small-generator, google/electra-base-generator, google/electra-large-generator, google/electra-small-discriminator, google/electra-base-discriminator, google/electra-large-discriminator). We assumed '../models/treebank_binary/model_save/modelcard.json' was a path or url to a model card file named modelcard.json or a directory containing such a file but couldn't find any such file at this path or url.\n",
      "Creating an empty model card.\n"
     ]
    }
   ],
   "source": [
    "binary_nlp = pipeline('sentiment-analysis',\n",
    "                   model = '../models/treebank_binary/model_save',\n",
    "                   tokenizer = '../models/treebank_binary/model_save')"
   ]
  },
  {
   "cell_type": "code",
   "execution_count": 106,
   "metadata": {},
   "outputs": [
    {
     "name": "stderr",
     "output_type": "stream",
     "text": [
      "Model name '../models/treebank_multiclass_84/model_save' was not found in model name list (bert-base-uncased, bert-large-uncased, bert-base-cased, bert-large-cased, bert-base-multilingual-uncased, bert-base-multilingual-cased, bert-base-chinese, bert-base-german-cased, bert-large-uncased-whole-word-masking, bert-large-cased-whole-word-masking, bert-large-uncased-whole-word-masking-finetuned-squad, bert-large-cased-whole-word-masking-finetuned-squad, bert-base-cased-finetuned-mrpc, bert-base-german-dbmdz-cased, bert-base-german-dbmdz-uncased, bert-base-japanese, bert-base-japanese-whole-word-masking, bert-base-japanese-char, bert-base-japanese-char-whole-word-masking, bert-base-finnish-cased-v1, bert-base-finnish-uncased-v1, bert-base-dutch-cased, bart-large, bart-large-mnli, bart-large-cnn, bart-large-xsum, openai-gpt, transfo-xl-wt103, gpt2, gpt2-medium, gpt2-large, gpt2-xl, distilgpt2, ctrl, xlnet-base-cased, xlnet-large-cased, xlm-mlm-en-2048, xlm-mlm-ende-1024, xlm-mlm-enfr-1024, xlm-mlm-enro-1024, xlm-mlm-tlm-xnli15-1024, xlm-mlm-xnli15-1024, xlm-clm-enfr-1024, xlm-clm-ende-1024, xlm-mlm-17-1280, xlm-mlm-100-1280, roberta-base, roberta-large, roberta-large-mnli, distilroberta-base, roberta-base-openai-detector, roberta-large-openai-detector, distilbert-base-uncased, distilbert-base-uncased-distilled-squad, distilbert-base-cased, distilbert-base-cased-distilled-squad, distilbert-base-german-cased, distilbert-base-multilingual-cased, distilbert-base-uncased-finetuned-sst-2-english, albert-base-v1, albert-large-v1, albert-xlarge-v1, albert-xxlarge-v1, albert-base-v2, albert-large-v2, albert-xlarge-v2, albert-xxlarge-v2, camembert-base, umberto-commoncrawl-cased-v1, umberto-wikipedia-uncased-v1, t5-small, t5-base, t5-large, t5-3b, t5-11b, xlm-roberta-base, xlm-roberta-large, xlm-roberta-large-finetuned-conll02-dutch, xlm-roberta-large-finetuned-conll02-spanish, xlm-roberta-large-finetuned-conll03-english, xlm-roberta-large-finetuned-conll03-german, flaubert-small-cased, flaubert-base-uncased, flaubert-base-cased, flaubert-large-cased, google/electra-small-generator, google/electra-base-generator, google/electra-large-generator, google/electra-small-discriminator, google/electra-base-discriminator, google/electra-large-discriminator). We assumed '../models/treebank_multiclass_84/model_save/modelcard.json' was a path or url to a model card file named modelcard.json or a directory containing such a file but couldn't find any such file at this path or url.\n",
      "Creating an empty model card.\n"
     ]
    }
   ],
   "source": [
    "sentiment_nlp = pipeline('sentiment-analysis',\n",
    "                   model = '../models/treebank_multiclass_84/model_save',\n",
    "                   tokenizer = '../models/treebank_multiclass_84/model_save')"
   ]
  },
  {
   "cell_type": "code",
   "execution_count": 114,
   "metadata": {},
   "outputs": [],
   "source": [
    "all_data = collection.find({})\n",
    "data = all_data[10]"
   ]
  },
  {
   "cell_type": "code",
   "execution_count": 110,
   "metadata": {},
   "outputs": [
    {
     "name": "stdout",
     "output_type": "stream",
     "text": [
      "{'_id': ObjectId('5eac3aa159cddecefc4eb88f'), 'review_date': '20 July 2017', 'movie_id': 'tt0111161', 'user_id': 'ur49658480', 'is_spoiler': True, 'review_text': 'If this was the Wizrd of Oz or Bambi then I could understand the appeal of the movie and would rate it accordingly but what this movie is I just do not know and no one can seem to tell me when I ask so why it is considered such a great movie other than: \"Aww it was nice\". Well so are kitten videos on Youtube but should they be in the top spot of greatest movies ever made?Firstly its subject matter is crime and punishment. This is not a genre exempt from theatrical treatment, in musicals and such, but at least you know you are watching a fictitious romantic fantasy when the prisoners break out in song. There is no such device in Shawshank and here lies my problem with this movie. It simply does not in any way indicate that this is fantasy which it quite clearly is. It takes itself seriously and if you examine it seriously then it has serious flaws of deliberate making. If these were accidental then I could possibly forgive them but the fact is the audience is being manipulated like an episode of Little House on the Prairie. For those of you who do not remember it was one of the many tear-jerking TV shows in the 70s with Michael Landon (Lord have mercy on him). It is not that I am against tear-jerkers as such. I cried at the end of The Champ, like most. I can take my portion of treacle in measured doses. It is not that Shawshank is just sentimental. It is the fact that it masquerades as something else. To be fair this is not the fault of the actors. It is technically a very well made movie. The performances are very strong so I can understand its appeal on this level. However, even these positives do not mitigate the sins of the writer. I am a fan of Stephen King and I do enjoy his stories but this is definitely not one of them. Maybe it is because it is not all his doing. I never read the novella so I am not sure how much is his and how much came from the director/writer.There were many little stabs of: \"Is this for real?\" moments in this movie but the scene that really ended my engagement was the scene where Morgan Freedman is telling the other prisoners about institutionalization. This is done to the backdrop of a paroled prisoner hanging himself. The idea of Institutionalisation as a bad thing became popular in the 1990s when this movie was made and and it was simply inserted, like so many ideas lying about without any research or care for its accuracy. The fact we have an uneducated prisoner espousing a theory that had not even been researched just threw back the curtain on the manipulator of Oz and lost me forever. The fact that suicide was used as a sentimental tool to engage the viewer in such a sham and poorly considered way is simply unforgivable in my estimation.Good fiction is meant to engage and to some extent manipulate the audience but it should be believable and due care and consideration should be taken in the treatment and presentation of the story. When you feel the hand of the manipulator, or see the strings holding up the illusion then the spell is broken and the magic is gone. A great movie should have great acting, great production, great direction and writing. This one definitely does not have great writing. This movie is not what it aspires to be. I am not even sure that it knows what it is aspiring to be. It is not serious, not realistic but at the same time does not portray itself as fantasy. So what is it supposed to be and why do people rate it so highly? I have nothing against it but to think it is considered so great when it clearly is not is an insult to all the great writers. As a schmaltzy Sunday afternoon feel-good watch it could be considered good but Great? Come on! This Movie is a non event, at best. It is is a study in form with no substance. A pretty picture of a sentimental scene that never occurred and never will. A fantasy pretending it is something else. What, I just do not know. Can anyone tell me?', 'rating': '1', 'review_summary': 'Told by an idiot, full of sound and fury, Signifying nothing.'}\n"
     ]
    }
   ],
   "source": [
    "data = {}\n",
    "for review in all_data:\n",
    "    if int(review['rating']) < 5:\n",
    "        data = review\n",
    "        break\n",
    "print(data)"
   ]
  },
  {
   "cell_type": "code",
   "execution_count": 116,
   "metadata": {},
   "outputs": [
    {
     "name": "stdout",
     "output_type": "stream",
     "text": [
      "I finally watched The Shawshank Redemption and I agree that it is an excellent film. The pacing, directing, and storyline, holds interest throughout, along with a superb supporting cast, and a very moving ending.The main character is Andy played by Tim Robbins who is imprisoned for the murder of his wife. Later on in the movie, the evidence comes out that he is truly innocent. However The Shawshank Redemption sends a powerful message that it doesn't matter whether you are innocent or not inside Shawshank penitentiary. This is because the prison is run by a sadistic and corrupt staff. In this facility, you must use all of the intellect you can, both book smarts, and street smarts to not only stay alive, but prevent yourself from going insane within the system.Andy befriends \"Red,\" a fellow inmate, played by Morgan Freeman in another great performance. He teaches Andy street smarts of survival within Shawshank's hell-hole. Andy, an experienced banker with a master ability for finance and book learning, manipulates the prison officials to get funds to set up a \"basic skills\" learning facility within the prison's library. Red helps him organize this, and HOW Andy sets up the funding is really an amazing part of the movie. Another inmate is the head librarian, known as \"Brooks,\" who delivers many amazing scenes in the movie.What is special about The Shawshank redemption is how the characters, especially Andy and Red, are able to use their inner abilities to rise above the conditions of the prison and the people who run it. There are some disturbing and violent images that show the harsh realities of prison life, such as fighting, and often getting beaten by the staff or punished for very small offenses and a lot of times for no reason at all. The Shawshank Redemption shows the abuse of power by prison authorities and how the inmates have to have the courage to rise above this abuse, because they need to do this, in order to keep living. They learn that failure to get this courage and survival skills from other inmates will destroy them. A great quote in this film is. \"you can get busy living, or you can get busy dying.\" Another interesting experience is how Red often wonders how at his advancing age he will be able to survive outside the prison if and when the parole board lets him go. An underlining message is that whether you \"get busy living or dying\" you become so accustomed to life in a controlling environment that the outside world, and the struggles, to reach it, to become physically and mentally \"free\" are an enormous challenge requiring great perseverance and the ultimate in determination.As good as this movie is, I was looking for that spark of magic that would put it at and over the top of all time classic films. However, I think that there are some outstanding prison movies that are just as good if not better than The Shawshank Redemption. Watch the Sean Penn Movie, \"Bad Boys\" for an outstanding portrayal inside and outside a juvenile prison. (Interestingly, Clancy Brown, who plays the bad officer in \"Shawshank,\" is just as good as a prison bully in \"Bad Boys.\") Another great movie is \"Midnight Express\" which is (although loosely) based on the real story of Billy Hayes who was arrested in Turkey for trying to smuggle hashish back to the USA in 1970. This is another amazing survival prison picture with an unforgettable musical score and some chilling moments.I see The Shawshank Redemption equal to, but no better than \"Midnight Express\" or \"Bad Boys.\" This is NOT a criticism of a fine movie! I am only putting The Shawshank Redemption in strikingly similar prison survival pictures that don't get the same credit that this movie does. Call this movie the greatest ever, and you have to do the same for \"Midnight Express\" or \"Bad Boys.\" All three films have the same emotional impact. Another under rated movie that you should see is \"An Innocent Man,\" which is also similar to The Shawshank Redemption but is considered only above average.The Shawshank Redemption is a great film for its time. But because of similarities to other similar prison pictures, I can't classify it as great for all time\n",
      "a very moving ending POLARITY\n",
      "========== [{'label': 'LABEL_4', 'score': 0.9302552}]\n",
      "\n",
      "a powerful message POLARITY\n",
      "========== [{'label': 'LABEL_3', 'score': 0.8856148}]\n",
      "\n",
      "in another great performance POLARITY\n",
      "========== [{'label': 'LABEL_4', 'score': 0.97797626}]\n",
      "\n",
      "an amazing part POLARITY\n",
      "========== [{'label': 'LABEL_3', 'score': 0.88084114}]\n",
      "\n",
      "show the harsh realities POLARITY\n",
      "========== [{'label': 'LABEL_1', 'score': 0.96806556}]\n",
      "\n",
      "Another interesting experience POLARITY\n",
      "========== [{'label': 'LABEL_3', 'score': 0.87231004}]\n",
      "\n",
      "requiring great perseverance POLARITY\n",
      "========== [{'label': 'LABEL_3', 'score': 0.9394451}]\n",
      "\n",
      "spark of magic POLARITY\n",
      "========== [{'label': 'LABEL_3', 'score': 0.8952362}]\n",
      "\n",
      "Another great movie POLARITY\n",
      "========== [{'label': 'LABEL_4', 'score': 0.98915523}]\n",
      "\n",
      "Another under rated movie POLARITY\n",
      "========== [{'label': 'LABEL_1', 'score': 0.95178944}]\n",
      "\n",
      "a great film POLARITY\n",
      "========== [{'label': 'LABEL_4', 'score': 0.9888131}]\n",
      "\n"
     ]
    }
   ],
   "source": [
    "print(data['review_text'])\n",
    "doc = pola_nlp(data['review_text'])\n",
    "for ent in doc.ents:\n",
    "    preds = sentiment_nlp(ent.text)\n",
    "    if preds[0]['score'] > .8:\n",
    "#     if preds[0]['label'] in ('LABEL_0', 'LABEL_3'):\n",
    "        print(ent, ent.label_)\n",
    "        print(\"=\" * 10,    sentiment_nlp(ent.text))\n",
    "        print()"
   ]
  },
  {
   "cell_type": "code",
   "execution_count": 9,
   "metadata": {},
   "outputs": [
    {
     "name": "stdout",
     "output_type": "stream",
     "text": [
      "[{'label': 'LABEL_1', 'score': 0.96596813}]\n",
      "10\n"
     ]
    }
   ],
   "source": [
    "print(pola_nlp(data['review_summary']))\n",
    "print(data['rating'])"
   ]
  },
  {
   "cell_type": "code",
   "execution_count": 18,
   "metadata": {},
   "outputs": [],
   "source": [
    "\n",
    "questions = {\n",
    "#     'very_bad' :'What is very bad ?',\n",
    "                    'bad': 'What is bad ?',\n",
    "                   'good': 'What is good ?',\n",
    "#                    'very_good':'What is very good ?'\n",
    "}"
   ]
  },
  {
   "cell_type": "code",
   "execution_count": 66,
   "metadata": {},
   "outputs": [
    {
     "name": "stdout",
     "output_type": "stream",
     "text": [
      "Andy (superb Tim Robbins) is condemned to stay all his life in prison due to two murders he has not done.\n"
     ]
    },
    {
     "name": "stderr",
     "output_type": "stream",
     "text": [
      "convert squad examples to features: 100%|██████████| 1/1 [00:00<00:00, 126.59it/s]\n",
      "add example index and unique id: 100%|██████████| 1/1 [00:00<00:00, 3469.23it/s]\n",
      "convert squad examples to features: 100%|██████████| 1/1 [00:00<00:00, 127.20it/s]\n",
      "add example index and unique id: 100%|██████████| 1/1 [00:00<00:00, 2606.78it/s]\n"
     ]
    },
    {
     "name": "stdout",
     "output_type": "stream",
     "text": [
      "{'sentence': Andy (superb Tim Robbins) is condemned to stay all his life in prison due to two murders he has not done.}\n",
      "There, he will meet Red (Morgan Freeman, impressive, these is one of the best relation love/friendship of all the movies I've ever seen).\n"
     ]
    },
    {
     "name": "stderr",
     "output_type": "stream",
     "text": [
      "convert squad examples to features: 100%|██████████| 1/1 [00:00<00:00, 120.01it/s]\n",
      "add example index and unique id: 100%|██████████| 1/1 [00:00<00:00, 4419.71it/s]\n",
      "convert squad examples to features: 100%|██████████| 1/1 [00:00<00:00, 108.57it/s]\n",
      "add example index and unique id: 100%|██████████| 1/1 [00:00<00:00, 5468.45it/s]\n"
     ]
    },
    {
     "name": "stdout",
     "output_type": "stream",
     "text": [
      "{'sentence': There, he will meet Red (Morgan Freeman, impressive, these is one of the best relation love/friendship of all the movies I've ever seen).}\n",
      "Red understand perfectly Andy and guides him at the first moments, as we see Andy from Red's eyes, his loyalty and admiration.\n"
     ]
    },
    {
     "name": "stderr",
     "output_type": "stream",
     "text": [
      "convert squad examples to features: 100%|██████████| 1/1 [00:00<00:00, 131.34it/s]\n",
      "add example index and unique id: 100%|██████████| 1/1 [00:00<00:00, 3390.71it/s]\n",
      "convert squad examples to features: 100%|██████████| 1/1 [00:00<00:00, 79.07it/s]\n",
      "add example index and unique id: 100%|██████████| 1/1 [00:00<00:00, 3869.28it/s]\n"
     ]
    },
    {
     "name": "stdout",
     "output_type": "stream",
     "text": [
      "{'sentence': Red understand perfectly Andy and guides him at the first moments, as we see Andy from Red's eyes, his loyalty and admiration.}\n",
      "We understand all these only by his looks and his moves, in one of the best parts of Freeman.\n"
     ]
    },
    {
     "name": "stderr",
     "output_type": "stream",
     "text": [
      "convert squad examples to features: 100%|██████████| 1/1 [00:00<00:00, 126.83it/s]\n",
      "add example index and unique id: 100%|██████████| 1/1 [00:00<00:00, 2467.24it/s]\n",
      "convert squad examples to features: 100%|██████████| 1/1 [00:00<00:00, 126.66it/s]\n",
      "add example index and unique id: 100%|██████████| 1/1 [00:00<00:00, 3446.43it/s]\n"
     ]
    },
    {
     "name": "stdout",
     "output_type": "stream",
     "text": [
      "{'sentence': We understand all these only by his looks and his moves, in one of the best parts of Freeman.}\n",
      "Robbins play the part of a distant character, brave, righteous, intelligent, but as everyone, weak, frightened.\n"
     ]
    },
    {
     "name": "stderr",
     "output_type": "stream",
     "text": [
      "convert squad examples to features: 100%|██████████| 1/1 [00:00<00:00, 124.88it/s]\n",
      "add example index and unique id: 100%|██████████| 1/1 [00:00<00:00, 3261.51it/s]\n",
      "convert squad examples to features: 100%|██████████| 1/1 [00:00<00:00, 117.83it/s]\n",
      "add example index and unique id: 100%|██████████| 1/1 [00:00<00:00, 2460.00it/s]\n"
     ]
    },
    {
     "name": "stdout",
     "output_type": "stream",
     "text": [
      "{'sentence': Robbins play the part of a distant character, brave, righteous, intelligent, but as everyone, weak, frightened.}\n",
      "It's like an angel in the depht of hell.\n"
     ]
    },
    {
     "name": "stderr",
     "output_type": "stream",
     "text": [
      "convert squad examples to features: 100%|██████████| 1/1 [00:00<00:00, 139.92it/s]\n",
      "add example index and unique id: 100%|██████████| 1/1 [00:00<00:00, 4228.13it/s]\n",
      "convert squad examples to features: 100%|██████████| 1/1 [00:00<00:00, 130.07it/s]\n",
      "add example index and unique id: 100%|██████████| 1/1 [00:00<00:00, 4429.04it/s]\n"
     ]
    },
    {
     "name": "stdout",
     "output_type": "stream",
     "text": [
      "{'sentence': It's like an angel in the depht of hell.}\n",
      "The hardness of the prison and the corruption of the prison system is perfectly told to us by Darabont perfectly.\n"
     ]
    },
    {
     "name": "stderr",
     "output_type": "stream",
     "text": [
      "convert squad examples to features: 100%|██████████| 1/1 [00:00<00:00, 96.31it/s]\n",
      "add example index and unique id: 100%|██████████| 1/1 [00:00<00:00, 3792.32it/s]\n",
      "convert squad examples to features: 100%|██████████| 1/1 [00:00<00:00, 128.97it/s]\n",
      "add example index and unique id: 100%|██████████| 1/1 [00:00<00:00, 3371.63it/s]\n"
     ]
    },
    {
     "name": "stdout",
     "output_type": "stream",
     "text": [
      "{'sentence': The hardness of the prison and the corruption of the prison system is perfectly told to us by Darabont perfectly.}\n",
      "Its realism is sometimes disgusting and the hardest scenes touches you at the depht of your heart.\n"
     ]
    },
    {
     "name": "stderr",
     "output_type": "stream",
     "text": [
      "convert squad examples to features: 100%|██████████| 1/1 [00:00<00:00, 132.91it/s]\n",
      "add example index and unique id: 100%|██████████| 1/1 [00:00<00:00, 2924.90it/s]\n",
      "convert squad examples to features: 100%|██████████| 1/1 [00:00<00:00, 131.43it/s]\n",
      "add example index and unique id: 100%|██████████| 1/1 [00:00<00:00, 2783.21it/s]\n"
     ]
    },
    {
     "name": "stdout",
     "output_type": "stream",
     "text": [
      "{'sentence': Its realism is sometimes disgusting and the hardest scenes touches you at the depht of your heart.}\n",
      "The film has a very high dramatic part, but in any moment becomes too sweety.\n"
     ]
    },
    {
     "name": "stderr",
     "output_type": "stream",
     "text": [
      "convert squad examples to features: 100%|██████████| 1/1 [00:00<00:00, 142.78it/s]\n",
      "add example index and unique id: 100%|██████████| 1/1 [00:00<00:00, 2323.71it/s]\n",
      "convert squad examples to features: 100%|██████████| 1/1 [00:00<00:00, 89.18it/s]\n",
      "add example index and unique id: 100%|██████████| 1/1 [00:00<00:00, 4750.06it/s]\n"
     ]
    },
    {
     "name": "stdout",
     "output_type": "stream",
     "text": [
      "{'sentence': The film has a very high dramatic part, but in any moment becomes too sweety., 'bad': {'score': 0.6412275597556416, 'start': 58, 'end': 76, 'answer': 'becomes too sweety.'}}\n",
      "Its wonderful dialogues, its magnificent study of characters and their psychologies, the charisma of Robbin's character, well absolutely everything helps that this film becomes part of the selected group of every time masterpieces.\n"
     ]
    },
    {
     "name": "stderr",
     "output_type": "stream",
     "text": [
      "convert squad examples to features: 100%|██████████| 1/1 [00:00<00:00, 111.79it/s]\n",
      "add example index and unique id: 100%|██████████| 1/1 [00:00<00:00, 3656.76it/s]\n",
      "convert squad examples to features: 100%|██████████| 1/1 [00:00<00:00, 110.36it/s]\n",
      "add example index and unique id: 100%|██████████| 1/1 [00:00<00:00, 4588.95it/s]\n"
     ]
    },
    {
     "name": "stdout",
     "output_type": "stream",
     "text": [
      "{'sentence': Its wonderful dialogues, its magnificent study of characters and their psychologies, the charisma of Robbin's character, well absolutely everything helps that this film becomes part of the selected group of every time masterpieces.}\n",
      "There are two scenes that I've loved a lot.\n"
     ]
    },
    {
     "name": "stderr",
     "output_type": "stream",
     "text": [
      "convert squad examples to features: 100%|██████████| 1/1 [00:00<00:00, 129.55it/s]\n",
      "add example index and unique id: 100%|██████████| 1/1 [00:00<00:00, 2425.86it/s]\n",
      "convert squad examples to features: 100%|██████████| 1/1 [00:00<00:00, 135.53it/s]\n",
      "add example index and unique id: 100%|██████████| 1/1 [00:00<00:00, 4219.62it/s]\n"
     ]
    },
    {
     "name": "stdout",
     "output_type": "stream",
     "text": [
      "{'sentence': There are two scenes that I've loved a lot., 'good': {'score': 0.6026515865831499, 'start': 21, 'end': 42, 'answer': \"that I've loved a lot.\"}}\n",
      "The one where, Andy is able to listen, relaxed to a Mozart's Opera in the director prison's office (although being in prison, at that moment, Andy is free).\n"
     ]
    },
    {
     "name": "stderr",
     "output_type": "stream",
     "text": [
      "convert squad examples to features: 100%|██████████| 1/1 [00:00<00:00, 124.64it/s]\n",
      "add example index and unique id: 100%|██████████| 1/1 [00:00<00:00, 3554.49it/s]\n",
      "convert squad examples to features: 100%|██████████| 1/1 [00:00<00:00, 111.75it/s]\n",
      "add example index and unique id: 100%|██████████| 1/1 [00:00<00:00, 4888.47it/s]\n"
     ]
    },
    {
     "name": "stdout",
     "output_type": "stream",
     "text": [
      "{'sentence': The one where, Andy is able to listen, relaxed to a Mozart's Opera in the director prison's office (although being in prison, at that moment, Andy is free).}\n",
      "And the other where, one of the prisoners, being very old and having spend almost all his life in prison, commits suicide as he cannot get used to a life in freedom.\n"
     ]
    },
    {
     "name": "stderr",
     "output_type": "stream",
     "text": [
      "convert squad examples to features: 100%|██████████| 1/1 [00:00<00:00, 128.75it/s]\n",
      "add example index and unique id: 100%|██████████| 1/1 [00:00<00:00, 5223.29it/s]\n",
      "convert squad examples to features: 100%|██████████| 1/1 [00:00<00:00, 123.01it/s]\n",
      "add example index and unique id: 100%|██████████| 1/1 [00:00<00:00, 1868.29it/s]\n"
     ]
    },
    {
     "name": "stdout",
     "output_type": "stream",
     "text": [
      "{'sentence': And the other where, one of the prisoners, being very old and having spend almost all his life in prison, commits suicide as he cannot get used to a life in freedom.}\n",
      "However, despite all the hardness and the few holes to hope that there's in the movie, at the end there's always a little ray of light.\n"
     ]
    },
    {
     "name": "stderr",
     "output_type": "stream",
     "text": [
      "convert squad examples to features: 100%|██████████| 1/1 [00:00<00:00, 643.59it/s]\n",
      "add example index and unique id: 100%|██████████| 1/1 [00:00<00:00, 3452.10it/s]\n",
      "convert squad examples to features: 100%|██████████| 1/1 [00:00<00:00, 104.27it/s]\n",
      "add example index and unique id: 100%|██████████| 1/1 [00:00<00:00, 2353.71it/s]\n"
     ]
    },
    {
     "name": "stdout",
     "output_type": "stream",
     "text": [
      "{'sentence': However, despite all the hardness and the few holes to hope that there's in the movie, at the end there's always a little ray of light.}\n",
      "The Shawshank Redemption is that, a chant for life, for our dreams... a masterpiece.\n"
     ]
    },
    {
     "name": "stderr",
     "output_type": "stream",
     "text": [
      "convert squad examples to features: 100%|██████████| 1/1 [00:00<00:00, 127.65it/s]\n",
      "add example index and unique id: 100%|██████████| 1/1 [00:00<00:00, 5269.23it/s]\n",
      "convert squad examples to features: 100%|██████████| 1/1 [00:00<00:00, 129.03it/s]\n",
      "add example index and unique id: 100%|██████████| 1/1 [00:00<00:00, 3672.77it/s]\n"
     ]
    },
    {
     "name": "stdout",
     "output_type": "stream",
     "text": [
      "{'sentence': The Shawshank Redemption is that, a chant for life, for our dreams... a masterpiece.}\n"
     ]
    }
   ],
   "source": [
    "doc = nlp(data['review_text'])\n",
    "for sent in doc.sents:\n",
    "    print(sent)\n",
    "    dic_sentence = {'sentence' : sent}\n",
    "\n",
    "    # ask what is (very) bad / good for each sentence\n",
    "    # in the document\n",
    "    for q_type, question in questions.items():\n",
    "        predictions = span_nlp(question = question,\n",
    "                               context = sent.text)\n",
    "        if predictions['score'] >= .6:\n",
    "            dic_sentence[q_type] = predictions\n",
    "    \n",
    "    print(dic_sentence)"
   ]
  }
 ],
 "metadata": {
  "kernelspec": {
   "display_name": "Python 3",
   "language": "python",
   "name": "python3"
  },
  "language_info": {
   "codemirror_mode": {
    "name": "ipython",
    "version": 3
   },
   "file_extension": ".py",
   "mimetype": "text/x-python",
   "name": "python",
   "nbconvert_exporter": "python",
   "pygments_lexer": "ipython3",
   "version": "3.8.2"
  }
 },
 "nbformat": 4,
 "nbformat_minor": 4
}
